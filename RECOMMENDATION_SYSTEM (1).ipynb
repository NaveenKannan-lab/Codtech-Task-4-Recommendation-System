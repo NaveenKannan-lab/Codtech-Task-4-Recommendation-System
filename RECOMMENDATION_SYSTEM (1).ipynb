{
  "nbformat": 4,
  "nbformat_minor": 0,
  "metadata": {
    "colab": {
      "provenance": []
    },
    "kernelspec": {
      "name": "python3",
      "display_name": "Python 3"
    },
    "language_info": {
      "name": "python"
    }
  },
  "cells": [
    {
      "cell_type": "code",
      "execution_count": 1,
      "metadata": {
        "colab": {
          "base_uri": "https://localhost:8080/"
        },
        "id": "VAdOT4SWG27l",
        "outputId": "5f7f387b-0ad6-4437-b2b3-f0a493206a9c"
      },
      "outputs": [
        {
          "output_type": "stream",
          "name": "stdout",
          "text": [
            "Requirement already satisfied: scikit-surprise in /usr/local/lib/python3.11/dist-packages (1.1.4)\n",
            "Requirement already satisfied: joblib>=1.2.0 in /usr/local/lib/python3.11/dist-packages (from scikit-surprise) (1.5.0)\n",
            "Requirement already satisfied: numpy>=1.19.5 in /usr/local/lib/python3.11/dist-packages (from scikit-surprise) (1.24.3)\n",
            "Requirement already satisfied: scipy>=1.6.0 in /usr/local/lib/python3.11/dist-packages (from scikit-surprise) (1.15.2)\n"
          ]
        }
      ],
      "source": [
        "# Install surprise library (used for building recommendation models)\n",
        "!pip install scikit-surprise\n"
      ]
    },
    {
      "cell_type": "code",
      "source": [
        "import pandas as pd\n",
        "from surprise import Dataset, Reader, SVD\n",
        "from surprise.model_selection import train_test_split\n",
        "from surprise import accuracy\n"
      ],
      "metadata": {
        "id": "Yhf0l0ICG90l"
      },
      "execution_count": 2,
      "outputs": []
    },
    {
      "cell_type": "code",
      "source": [
        "# Load the built-in MovieLens 100k dataset\n",
        "data = Dataset.load_builtin('ml-100k')\n"
      ],
      "metadata": {
        "colab": {
          "base_uri": "https://localhost:8080/"
        },
        "id": "c02OqZiJG_w0",
        "outputId": "8bbc42a6-d906-4388-81f4-38d800ed6405"
      },
      "execution_count": 3,
      "outputs": [
        {
          "output_type": "stream",
          "name": "stdout",
          "text": [
            "Dataset ml-100k could not be found. Do you want to download it? [Y/n] Y\n",
            "Trying to download dataset from https://files.grouplens.org/datasets/movielens/ml-100k.zip...\n",
            "Done! Dataset ml-100k has been saved to /root/.surprise_data/ml-100k\n"
          ]
        }
      ]
    },
    {
      "cell_type": "code",
      "source": [
        "# Split the data into training and testing sets\n",
        "trainset, testset = train_test_split(data, test_size=0.2, random_state=42)\n"
      ],
      "metadata": {
        "id": "kMB_wdLVIbsD"
      },
      "execution_count": 5,
      "outputs": []
    },
    {
      "cell_type": "code",
      "source": [
        "# Create SVD model (Singular Value Decomposition)\n",
        "model = SVD()\n",
        "model.fit(trainset)\n"
      ],
      "metadata": {
        "colab": {
          "base_uri": "https://localhost:8080/"
        },
        "id": "y0EVYNvnIgNM",
        "outputId": "0bf0297b-f6de-4bcc-e223-df5580322d4b"
      },
      "execution_count": 6,
      "outputs": [
        {
          "output_type": "execute_result",
          "data": {
            "text/plain": [
              "<surprise.prediction_algorithms.matrix_factorization.SVD at 0x7b5270b17490>"
            ]
          },
          "metadata": {},
          "execution_count": 6
        }
      ]
    },
    {
      "cell_type": "code",
      "source": [
        "# Predict ratings for the test set\n",
        "predictions = model.test(testset)\n"
      ],
      "metadata": {
        "id": "OLw_Ie8iIi9R"
      },
      "execution_count": 7,
      "outputs": []
    },
    {
      "cell_type": "code",
      "source": [
        "# Root Mean Squared Error (lower = better)\n",
        "rmse = accuracy.rmse(predictions)\n",
        "print(f\"Test RMSE: {rmse:.4f}\")\n"
      ],
      "metadata": {
        "colab": {
          "base_uri": "https://localhost:8080/"
        },
        "id": "hTi11HsEImKX",
        "outputId": "24cba7e9-a286-4ad1-cdc5-f1903d1858b6"
      },
      "execution_count": 8,
      "outputs": [
        {
          "output_type": "stream",
          "name": "stdout",
          "text": [
            "RMSE: 0.9332\n",
            "Test RMSE: 0.9332\n"
          ]
        }
      ]
    },
    {
      "cell_type": "code",
      "source": [
        "# Show a few actual vs predicted ratings\n",
        "for prediction in predictions[:5]:\n",
        "    print(f\"User {prediction.uid} → Item {prediction.iid}:\")\n",
        "    print(f\"  Actual Rating: {prediction.r_ui}\")\n",
        "    print(f\"  Predicted Rating: {prediction.est:.2f}\\n\")\n"
      ],
      "metadata": {
        "colab": {
          "base_uri": "https://localhost:8080/"
        },
        "id": "4uG56fAZIpHG",
        "outputId": "925a79fc-a6fd-4297-ffc0-a77ebacf5a37"
      },
      "execution_count": 9,
      "outputs": [
        {
          "output_type": "stream",
          "name": "stdout",
          "text": [
            "User 907 → Item 143:\n",
            "  Actual Rating: 5.0\n",
            "  Predicted Rating: 4.75\n",
            "\n",
            "User 371 → Item 210:\n",
            "  Actual Rating: 4.0\n",
            "  Predicted Rating: 4.23\n",
            "\n",
            "User 218 → Item 42:\n",
            "  Actual Rating: 4.0\n",
            "  Predicted Rating: 3.39\n",
            "\n",
            "User 829 → Item 170:\n",
            "  Actual Rating: 4.0\n",
            "  Predicted Rating: 4.08\n",
            "\n",
            "User 733 → Item 277:\n",
            "  Actual Rating: 1.0\n",
            "  Predicted Rating: 3.14\n",
            "\n"
          ]
        }
      ]
    },
    {
      "cell_type": "code",
      "source": [
        "# Get top N movie recommendations for a given user\n",
        "from collections import defaultdict\n",
        "\n",
        "def get_top_n(predictions, n=5):\n",
        "    top_n = defaultdict(list)\n",
        "\n",
        "    for uid, iid, true_r, est, _ in predictions:\n",
        "        top_n[uid].append((iid, est))\n",
        "\n",
        "    # Sort predictions for each user and return top n\n",
        "    for uid, user_ratings in top_n.items():\n",
        "        user_ratings.sort(key=lambda x: x[1], reverse=True)\n",
        "        top_n[uid] = user_ratings[:n]\n",
        "\n",
        "    return top_n\n",
        "\n",
        "top_n = get_top_n(predictions, n=5)\n",
        "\n",
        "# Example: print recommendations for 3 users\n",
        "for uid, user_ratings in list(top_n.items())[:3]:\n",
        "    print(f\"\\nTop 5 recommendations for User {uid}:\")\n",
        "    for iid, rating in user_ratings:\n",
        "        print(f\"  Movie ID: {iid} | Predicted Rating: {rating:.2f}\")\n"
      ],
      "metadata": {
        "colab": {
          "base_uri": "https://localhost:8080/"
        },
        "id": "iPHEP6YWIsv9",
        "outputId": "af5d804b-b206-4518-eeba-d12fb325a144"
      },
      "execution_count": 10,
      "outputs": [
        {
          "output_type": "stream",
          "name": "stdout",
          "text": [
            "\n",
            "Top 5 recommendations for User 907:\n",
            "  Movie ID: 173 | Predicted Rating: 5.00\n",
            "  Movie ID: 813 | Predicted Rating: 5.00\n",
            "  Movie ID: 79 | Predicted Rating: 5.00\n",
            "  Movie ID: 125 | Predicted Rating: 5.00\n",
            "  Movie ID: 647 | Predicted Rating: 5.00\n",
            "\n",
            "Top 5 recommendations for User 371:\n",
            "  Movie ID: 97 | Predicted Rating: 4.27\n",
            "  Movie ID: 186 | Predicted Rating: 4.26\n",
            "  Movie ID: 210 | Predicted Rating: 4.23\n",
            "  Movie ID: 237 | Predicted Rating: 4.21\n",
            "  Movie ID: 746 | Predicted Rating: 4.10\n",
            "\n",
            "Top 5 recommendations for User 218:\n",
            "  Movie ID: 12 | Predicted Rating: 4.38\n",
            "  Movie ID: 654 | Predicted Rating: 3.94\n",
            "  Movie ID: 209 | Predicted Rating: 3.78\n",
            "  Movie ID: 47 | Predicted Rating: 3.44\n",
            "  Movie ID: 42 | Predicted Rating: 3.39\n"
          ]
        }
      ]
    },
    {
      "cell_type": "code",
      "source": [
        "print(\"Collaborative Filtering using SVD.\")\n"
      ],
      "metadata": {
        "colab": {
          "base_uri": "https://localhost:8080/"
        },
        "id": "5OjmbefvIv-V",
        "outputId": "a16d4529-2e2b-4b1a-9303-d8acc683a1d3"
      },
      "execution_count": 12,
      "outputs": [
        {
          "output_type": "stream",
          "name": "stdout",
          "text": [
            "Collaborative Filtering using SVD.\n"
          ]
        }
      ]
    }
  ]
}